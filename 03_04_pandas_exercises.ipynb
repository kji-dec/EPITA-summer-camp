{
  "cells": [
    {
      "cell_type": "markdown",
      "metadata": {
        "id": "gKF1h9i_WNSM"
      },
      "source": [
        "# Pandas exercises\n"
      ]
    },
    {
      "cell_type": "markdown",
      "metadata": {
        "id": "76jGEZXkWNST"
      },
      "source": [
        "Pandas is a python library that makes it easy to manipulate, analyse, clean and explore data.\n",
        "The name \"Pandas\" refers to both \"Panel Data\" and \"Python Data Analysis\". "
      ]
    },
    {
      "cell_type": "markdown",
      "metadata": {
        "id": "Hr1hQacaWNSU"
      },
      "source": [
        "## Exercise 1 - List-to-Series Conversion\n",
        "Given a list, output the corresponding pandas series"
      ]
    },
    {
      "cell_type": "code",
      "source": [
        "import pandas as pd\n",
        "\n",
        "a = [1, 2, 3]\n",
        "b = pd.Series(a)\n",
        "print(b)"
      ],
      "metadata": {
        "id": "JXR0wD2X5fHo",
        "outputId": "d4f693a9-3341-424a-ba0f-76ab88330827",
        "colab": {
          "base_uri": "https://localhost:8080/"
        }
      },
      "execution_count": 1,
      "outputs": [
        {
          "output_type": "stream",
          "name": "stdout",
          "text": [
            "0    1\n",
            "1    2\n",
            "2    3\n",
            "dtype: int64\n"
          ]
        }
      ]
    },
    {
      "cell_type": "markdown",
      "metadata": {
        "id": "K2xuH5h-WNSW"
      },
      "source": [
        "## Exercise 2 - List-to-Series Conversion with Custom Indexing\n",
        "Given a series, output the corresponding pandas series with odd indexes only"
      ]
    },
    {
      "cell_type": "code",
      "source": [
        "a = [1, 2, 3, 4, 5]\n",
        "\n",
        "b = pd.Series(a, index = [1, 3, 5, 7, 9])\n",
        "\n",
        "print(b)"
      ],
      "metadata": {
        "id": "AO-qBSoI5gRQ",
        "outputId": "12a79121-dba0-4e67-fa66-9d21e77045ee",
        "colab": {
          "base_uri": "https://localhost:8080/"
        }
      },
      "execution_count": 2,
      "outputs": [
        {
          "output_type": "stream",
          "name": "stdout",
          "text": [
            "1    1\n",
            "3    2\n",
            "5    3\n",
            "7    4\n",
            "9    5\n",
            "dtype: int64\n"
          ]
        }
      ]
    },
    {
      "cell_type": "markdown",
      "metadata": {
        "id": "D1NTaNFdWNSW"
      },
      "source": [
        "## Exercise 3 - Date Series Generation\n",
        "Generate the series of dates from 1st May, 2021 to 12th May, 2021 (both inclusive)"
      ]
    },
    {
      "cell_type": "code",
      "source": [
        "date_series = pd.date_range(start = '2021-05-01', end = '2021-05-12')\n",
        "\n",
        "print(date_series)"
      ],
      "metadata": {
        "id": "TMOt-Dhy5hIe",
        "outputId": "e9cce1a3-e18b-416c-914a-c6fcc51bdbc5",
        "colab": {
          "base_uri": "https://localhost:8080/"
        }
      },
      "execution_count": 8,
      "outputs": [
        {
          "output_type": "stream",
          "name": "stdout",
          "text": [
            "DatetimeIndex(['2021-05-01', '2021-05-02', '2021-05-03', '2021-05-04',\n",
            "               '2021-05-05', '2021-05-06', '2021-05-07', '2021-05-08',\n",
            "               '2021-05-09', '2021-05-10', '2021-05-11', '2021-05-12'],\n",
            "              dtype='datetime64[ns]', freq='D')\n"
          ]
        }
      ]
    },
    {
      "cell_type": "markdown",
      "metadata": {
        "id": "sWb9Hi8DWNSX"
      },
      "source": [
        "## Exercise 3 - Dictionary-to-Dataframe Conversion\n",
        "Given a dictionary, convert it into corresponding dataframe and display it\n",
        "\n",
        "\n",
        "dictionary = {'name': ['Vinay', 'Kushal', 'Aman'],\n",
        "              'age' : [22, 25, 24],\n",
        "              'occ' : ['engineer', 'doctor', 'accountant']}"
      ]
    },
    {
      "cell_type": "code",
      "source": [
        "dictionary = {'name': ['Vinay', 'Kushal', 'Aman'], 'age' : [22, 25, 24], 'occ' : ['engineer', 'doctor', 'accountant']}\n",
        "dataframe = pd.DataFrame(dictionary)\n",
        "\n",
        "print(dataframe)"
      ],
      "metadata": {
        "id": "NDMXMvcQ5iUD",
        "outputId": "7f575271-39b6-48d8-883d-d8c97bf21fd1",
        "colab": {
          "base_uri": "https://localhost:8080/"
        }
      },
      "execution_count": 7,
      "outputs": [
        {
          "output_type": "stream",
          "name": "stdout",
          "text": [
            "     name  age         occ\n",
            "0   Vinay   22    engineer\n",
            "1  Kushal   25      doctor\n",
            "2    Aman   24  accountant\n"
          ]
        }
      ]
    },
    {
      "cell_type": "markdown",
      "metadata": {
        "id": "9Jkf1qGcWNSY"
      },
      "source": [
        "## Exercise 4- Setting Custom Index in Dataframe\n",
        "Given a dataframe, change the index of a dataframe from the default indexes to a particular column.\n",
        "\n",
        "Please use the dataframe generated in Exercise 3"
      ]
    },
    {
      "cell_type": "code",
      "source": [
        "dataframe = pd.read_csv('/content/sample_data/california_housing_test.csv')\n",
        "\n",
        "dataframe_customindex = dataframe.set_index('housing_median_age')\n",
        "\n",
        "print(dataframe_customindex)"
      ],
      "metadata": {
        "id": "T3ZsVqI55jbx",
        "outputId": "358d0725-92c2-40a4-be61-97fdf6f4d36c",
        "colab": {
          "base_uri": "https://localhost:8080/"
        }
      },
      "execution_count": 13,
      "outputs": [
        {
          "output_type": "stream",
          "name": "stdout",
          "text": [
            "                    longitude  latitude  total_rooms  total_bedrooms  \\\n",
            "housing_median_age                                                     \n",
            "27.0                  -122.05     37.37       3885.0           661.0   \n",
            "43.0                  -118.30     34.26       1510.0           310.0   \n",
            "27.0                  -117.81     33.78       3589.0           507.0   \n",
            "28.0                  -118.36     33.82         67.0            15.0   \n",
            "19.0                  -119.67     36.33       1241.0           244.0   \n",
            "...                       ...       ...          ...             ...   \n",
            "23.0                  -119.86     34.42       1450.0           642.0   \n",
            "27.0                  -118.14     34.06       5257.0          1082.0   \n",
            "10.0                  -119.70     36.30        956.0           201.0   \n",
            "40.0                  -117.12     34.10         96.0            14.0   \n",
            "42.0                  -119.63     34.42       1765.0           263.0   \n",
            "\n",
            "                    population  households  median_income  median_house_value  \n",
            "housing_median_age                                                             \n",
            "27.0                    1537.0       606.0         6.6085            344700.0  \n",
            "43.0                     809.0       277.0         3.5990            176500.0  \n",
            "27.0                    1484.0       495.0         5.7934            270500.0  \n",
            "28.0                      49.0        11.0         6.1359            330000.0  \n",
            "19.0                     850.0       237.0         2.9375             81700.0  \n",
            "...                        ...         ...            ...                 ...  \n",
            "23.0                    1258.0       607.0         1.1790            225000.0  \n",
            "27.0                    3496.0      1036.0         3.3906            237200.0  \n",
            "10.0                     693.0       220.0         2.2895             62000.0  \n",
            "40.0                      46.0        14.0         3.2708            162500.0  \n",
            "42.0                     753.0       260.0         8.5608            500001.0  \n",
            "\n",
            "[3000 rows x 8 columns]\n"
          ]
        }
      ]
    },
    {
      "cell_type": "markdown",
      "metadata": {
        "id": "_6n7bk4QWNSZ"
      },
      "source": [
        "#Exercise 5 - Sorting a Dataframe by Multiple Columns\n",
        "Use the dataframe generated in Exercise 3, and sort it by multiple columns: 'id' and 'age'"
      ]
    },
    {
      "cell_type": "code",
      "source": [
        "dataframe_sorted = dataframe.sort_index()\n",
        "\n",
        "print(dataframe_sorted)"
      ],
      "metadata": {
        "id": "BVdnNdEe5kmI",
        "outputId": "829689cf-20d7-4a42-80b2-e255d36be897",
        "colab": {
          "base_uri": "https://localhost:8080/"
        }
      },
      "execution_count": 14,
      "outputs": [
        {
          "output_type": "stream",
          "name": "stdout",
          "text": [
            "      longitude  latitude  housing_median_age  total_rooms  total_bedrooms  \\\n",
            "0       -122.05     37.37                27.0       3885.0           661.0   \n",
            "1       -118.30     34.26                43.0       1510.0           310.0   \n",
            "2       -117.81     33.78                27.0       3589.0           507.0   \n",
            "3       -118.36     33.82                28.0         67.0            15.0   \n",
            "4       -119.67     36.33                19.0       1241.0           244.0   \n",
            "...         ...       ...                 ...          ...             ...   \n",
            "2995    -119.86     34.42                23.0       1450.0           642.0   \n",
            "2996    -118.14     34.06                27.0       5257.0          1082.0   \n",
            "2997    -119.70     36.30                10.0        956.0           201.0   \n",
            "2998    -117.12     34.10                40.0         96.0            14.0   \n",
            "2999    -119.63     34.42                42.0       1765.0           263.0   \n",
            "\n",
            "      population  households  median_income  median_house_value  \n",
            "0         1537.0       606.0         6.6085            344700.0  \n",
            "1          809.0       277.0         3.5990            176500.0  \n",
            "2         1484.0       495.0         5.7934            270500.0  \n",
            "3           49.0        11.0         6.1359            330000.0  \n",
            "4          850.0       237.0         2.9375             81700.0  \n",
            "...          ...         ...            ...                 ...  \n",
            "2995      1258.0       607.0         1.1790            225000.0  \n",
            "2996      3496.0      1036.0         3.3906            237200.0  \n",
            "2997       693.0       220.0         2.2895             62000.0  \n",
            "2998        46.0        14.0         3.2708            162500.0  \n",
            "2999       753.0       260.0         8.5608            500001.0  \n",
            "\n",
            "[3000 rows x 9 columns]\n"
          ]
        }
      ]
    },
    {
      "cell_type": "markdown",
      "metadata": {
        "id": "AKCSY6WJWNSa"
      },
      "source": [
        "##Exercise 6 - Conditional Selection of Rows in a DataFrame\n",
        "Use the dataframe generated in Exercise 3, and select rows based on a condition : age > 24"
      ]
    },
    {
      "cell_type": "code",
      "source": [
        "dataframe_condition = dataframe.loc[dataframe.housing_median_age >= 40]\n",
        "\n",
        "print(dataframe_condition)"
      ],
      "metadata": {
        "id": "U1QjPb-w5lu5",
        "outputId": "0828f3f5-23ad-4598-f9ab-8d681511e623",
        "colab": {
          "base_uri": "https://localhost:8080/"
        }
      },
      "execution_count": 17,
      "outputs": [
        {
          "output_type": "stream",
          "name": "stdout",
          "text": [
            "      longitude  latitude  housing_median_age  total_rooms  total_bedrooms  \\\n",
            "1       -118.30     34.26                43.0       1510.0           310.0   \n",
            "6       -121.43     38.63                43.0       1009.0           225.0   \n",
            "10      -118.24     33.98                45.0        972.0           249.0   \n",
            "15      -117.99     33.81                42.0        161.0            40.0   \n",
            "20      -122.15     37.75                40.0       1445.0           256.0   \n",
            "...         ...       ...                 ...          ...             ...   \n",
            "2988    -122.01     36.97                43.0       2162.0           509.0   \n",
            "2990    -118.23     34.09                49.0       1638.0           456.0   \n",
            "2992    -122.33     37.39                52.0        573.0           102.0   \n",
            "2998    -117.12     34.10                40.0         96.0            14.0   \n",
            "2999    -119.63     34.42                42.0       1765.0           263.0   \n",
            "\n",
            "      population  households  median_income  median_house_value  \n",
            "1          809.0       277.0         3.5990            176500.0  \n",
            "6          604.0       218.0         1.6641             67000.0  \n",
            "10        1288.0       261.0         2.2054            125000.0  \n",
            "15         157.0        50.0         2.2000            153100.0  \n",
            "20         849.0       255.0         3.8913            126300.0  \n",
            "...          ...         ...            ...                 ...  \n",
            "2988      1208.0       464.0         2.5417            260900.0  \n",
            "2990      1500.0       430.0         2.6923            150000.0  \n",
            "2992       232.0        92.0         6.2263            500001.0  \n",
            "2998        46.0        14.0         3.2708            162500.0  \n",
            "2999       753.0       260.0         8.5608            500001.0  \n",
            "\n",
            "[626 rows x 9 columns]\n"
          ]
        }
      ]
    },
    {
      "cell_type": "markdown",
      "source": [
        "## Exercise 7:\n",
        "Pandas can read CSV, JSON, Excel, etc. files. Follow the following tutorial to learn more about the supported file formats (you will want to read all your data sources with Pandas afterwards):\n",
        "\n",
        "https://pandas.pydata.org/docs/getting_started/intro_tutorials/02_read_write.html#min-tut-02-read-write"
      ],
      "metadata": {
        "id": "Sd0eR27r4nhb"
      }
    },
    {
      "cell_type": "markdown",
      "source": [
        "## Exercise 8 : Exploration of the salaries dataframe (optional)\n",
        "Please use salaries.csv fourni, try to answer the following questions:\n",
        "\n",
        "-1) What is the type of the salary column?\n",
        "\n",
        "-2) What is the type of all columns?\n",
        "\n",
        "-3) Select the salary column and display the highest value.\n",
        "\n",
        "-4) Select the first 20 rows of the dataframe\n",
        "\n",
        "-5) Display the last 2 rows of the dataframe\n",
        "\n",
        "-6) Give the summary for the numeric columns in the dataset\n",
        "\n",
        "-7) Calculate the standard deviation for each numeric column\n",
        "\n",
        "-8) What is the average salary?\n",
        "\n",
        "-9) What is the most answered grade in the dataframe?\n",
        "\n",
        "-10) Structure your code to have two functions: One for reading and What is the least answered grade in the dataframe?\n",
        "\n",
        "Documentation Pandas : https://pandas.pydata.org/docs/getting_started/index.html"
      ],
      "metadata": {
        "id": "bklc0sFr31QQ"
      }
    }
  ],
  "metadata": {
    "interpreter": {
      "hash": "5f93c710f340a2e31cff3bb6ebdbfdc2ef47a25bab77ef50e9e25900c31fe89f"
    },
    "kernelspec": {
      "display_name": "Python 3.7.9 64-bit ('python-course': virtualenv)",
      "name": "python3"
    },
    "language_info": {
      "codemirror_mode": {
        "name": "ipython",
        "version": 3
      },
      "file_extension": ".py",
      "mimetype": "text/x-python",
      "name": "python",
      "nbconvert_exporter": "python",
      "pygments_lexer": "ipython3",
      "version": "3.9.7"
    },
    "orig_nbformat": 4,
    "colab": {
      "name": "03_04_pandas_exercises.ipynb",
      "provenance": [],
      "collapsed_sections": []
    }
  },
  "nbformat": 4,
  "nbformat_minor": 0
}