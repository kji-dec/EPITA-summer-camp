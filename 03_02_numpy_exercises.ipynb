{
  "cells": [
    {
      "cell_type": "markdown",
      "metadata": {
        "id": "l9s60NPvUVL-"
      },
      "source": [
        "# Numpy exercises\n"
      ]
    },
    {
      "cell_type": "markdown",
      "metadata": {
        "id": "jFjVflQ0UVMA"
      },
      "source": [
        "## Exercise 1 - Element-wise addition of 2 numpy arrays\n",
        "Given are 2 similar dimensional numpy arrays, how to get a numpy array output in which every element is an element-wise sum of the 2 numpy arrays?"
      ]
    },
    {
      "cell_type": "code",
      "source": [
        "import numpy as np\n",
        "\n",
        "a = np.arange(6).reshape(2,3)\n",
        "b = np.arange(6).reshape(2,3)\n",
        "c = a + b\n",
        "print(c)"
      ],
      "metadata": {
        "id": "GPDmS4z-0IrB",
        "outputId": "c77811ed-fc6a-4788-b54a-d9131a74b5e6",
        "colab": {
          "base_uri": "https://localhost:8080/"
        }
      },
      "execution_count": 2,
      "outputs": [
        {
          "output_type": "stream",
          "name": "stdout",
          "text": [
            "[[ 0  2  4]\n",
            " [ 6  8 10]]\n"
          ]
        }
      ]
    },
    {
      "cell_type": "markdown",
      "metadata": {
        "id": "_5Xhkc0NUVMC"
      },
      "source": [
        "## Exercise 2 - Multiplying a matrix (numpy array) by a scalar\n",
        "Given a numpy array (matrix), how to get a numpy array output which is equal to the original matrix multiplied by a scalar?EXERCISE 2 - Multiplying a matrix (numpy array) by a scalar"
      ]
    },
    {
      "cell_type": "code",
      "source": [
        "d = a * 2\n",
        "print(d)"
      ],
      "metadata": {
        "id": "4symu7vk0Jn_",
        "outputId": "3b089551-65f0-4abe-b592-1678940f3b33",
        "colab": {
          "base_uri": "https://localhost:8080/"
        }
      },
      "execution_count": 6,
      "outputs": [
        {
          "output_type": "stream",
          "name": "stdout",
          "text": [
            "[[ 0  2  4]\n",
            " [ 6  8 10]]\n"
          ]
        }
      ]
    },
    {
      "cell_type": "markdown",
      "metadata": {
        "id": "Erg6M9qWUVME"
      },
      "source": [
        "##Exercise 3 - Array re-dimensioning\n",
        "Convert a 1-D array to a 3-D array"
      ]
    },
    {
      "cell_type": "code",
      "source": [
        "a = np.arange(27)\n",
        "\n",
        "b = a.reshape((3,3,3))\n",
        "\n",
        "print(b)"
      ],
      "metadata": {
        "id": "MvANF8LK0Kvu",
        "outputId": "05e9b632-09c9-4067-a675-e7d4868dbc11",
        "colab": {
          "base_uri": "https://localhost:8080/"
        }
      },
      "execution_count": 8,
      "outputs": [
        {
          "output_type": "stream",
          "name": "stdout",
          "text": [
            "[[[ 0  1  2]\n",
            "  [ 3  4  5]\n",
            "  [ 6  7  8]]\n",
            "\n",
            " [[ 9 10 11]\n",
            "  [12 13 14]\n",
            "  [15 16 17]]\n",
            "\n",
            " [[18 19 20]\n",
            "  [21 22 23]\n",
            "  [24 25 26]]]\n"
          ]
        }
      ]
    },
    {
      "cell_type": "markdown",
      "metadata": {
        "id": "FTi09KvGUVMF"
      },
      "source": [
        "##Exercise 4 - Array datatype conversion\n",
        "Convert all the elements of a numpy array from float to integer datatype"
      ]
    },
    {
      "cell_type": "code",
      "source": [
        "a = np.array([1.1, 2.2, 3.3])\n",
        "b = a.astype(int)\n",
        "print(b)"
      ],
      "metadata": {
        "id": "aYDkix5o0LyW",
        "outputId": "e36a2242-b52c-40e8-e11f-cc3b53b61396",
        "colab": {
          "base_uri": "https://localhost:8080/"
        }
      },
      "execution_count": 10,
      "outputs": [
        {
          "output_type": "stream",
          "name": "stdout",
          "text": [
            "[1 2 3]\n"
          ]
        }
      ]
    },
    {
      "cell_type": "markdown",
      "metadata": {
        "id": "PBbGGslQUVMG"
      },
      "source": [
        "## Exercise 5 - Custom Sequence Generation\n",
        "Generate a sequence of numbers :\n",
        "\n",
        "    [  0   2   4   6   8  10  12  14  16  18  20  22  24  26  28  30  32  34 36  38  40  42  44  46  48  50  52  54  56  58  60  62  64  66  68  70 72  74  76  78  80  82  84  86  88  90  92  94  96  98 100]"
      ]
    },
    {
      "cell_type": "code",
      "source": [
        "a = np.arange(0, 101, 2) # 가운데 숫자는 index\n",
        "print(a)"
      ],
      "metadata": {
        "id": "JzTCObDt0Ml1",
        "outputId": "6261c2e4-1262-4ac2-d8d1-1a536313df6a",
        "colab": {
          "base_uri": "https://localhost:8080/"
        }
      },
      "execution_count": 12,
      "outputs": [
        {
          "output_type": "stream",
          "name": "stdout",
          "text": [
            "[  0   2   4   6   8  10  12  14  16  18  20  22  24  26  28  30  32  34\n",
            "  36  38  40  42  44  46  48  50  52  54  56  58  60  62  64  66  68  70\n",
            "  72  74  76  78  80  82  84  86  88  90  92  94  96  98 100]\n"
          ]
        }
      ]
    },
    {
      "cell_type": "markdown",
      "metadata": {
        "id": "MIah_D2lUVMG"
      },
      "source": [
        "## Exercise 6 - Getting the positions (indexes) where elements of 2 numpy arrays match\n",
        "From 2 numpy arrays, extract the indexes in which the elements in the 2 arrays match"
      ]
    },
    {
      "cell_type": "code",
      "source": [
        "a = np.array([0, 1, 2, 3, 4, 5, 77])\n",
        "b = np.array([5, 4, 3, 2, 1, 0, 77])\n",
        "print(np.where(a == b))"
      ],
      "metadata": {
        "id": "MvxPj4Cp0Nji",
        "outputId": "bced26aa-c4aa-4684-cb25-81f380c3f84a",
        "colab": {
          "base_uri": "https://localhost:8080/"
        }
      },
      "execution_count": 14,
      "outputs": [
        {
          "output_type": "stream",
          "name": "stdout",
          "text": [
            "(array([6]),)\n"
          ]
        }
      ]
    }
  ],
  "metadata": {
    "interpreter": {
      "hash": "5f93c710f340a2e31cff3bb6ebdbfdc2ef47a25bab77ef50e9e25900c31fe89f"
    },
    "kernelspec": {
      "display_name": "Python 3.7.9 64-bit ('python-course': virtualenv)",
      "name": "python3"
    },
    "language_info": {
      "codemirror_mode": {
        "name": "ipython",
        "version": 3
      },
      "file_extension": ".py",
      "mimetype": "text/x-python",
      "name": "python",
      "nbconvert_exporter": "python",
      "pygments_lexer": "ipython3",
      "version": "3.9.7"
    },
    "orig_nbformat": 4,
    "colab": {
      "name": "03_02_numpy_exercises.ipynb",
      "provenance": [],
      "collapsed_sections": []
    }
  },
  "nbformat": 4,
  "nbformat_minor": 0
}